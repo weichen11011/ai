{
 "cells": [
  {
   "cell_type": "code",
   "execution_count": 2,
   "id": "df2de68a",
   "metadata": {},
   "outputs": [],
   "source": [
    "import pandas as pd\n",
    "from sklearn.model_selection import train_test_split\n",
    "from sklearn.ensemble import RandomForestClassifier\n",
    "from sklearn.metrics import classification_report, accuracy_score\n",
    "from sklearn.preprocessing import StandardScaler\n",
    "import matplotlib.pyplot as plt\n",
    "import seaborn as sns"
   ]
  },
  {
   "cell_type": "code",
   "execution_count": 3,
   "id": "4ec5009f",
   "metadata": {},
   "outputs": [],
   "source": [
    "#載入資料\n",
    "data = pd.read_excel('./01train.xlsx')"
   ]
  },
  {
   "cell_type": "code",
   "execution_count": 4,
   "id": "901f8e82",
   "metadata": {},
   "outputs": [
    {
     "data": {
      "text/plain": [
       "(3903, 15)"
      ]
     },
     "execution_count": 4,
     "metadata": {},
     "output_type": "execute_result"
    }
   ],
   "source": [
    "# 資料大小\n",
    "data.shape"
   ]
  },
  {
   "cell_type": "code",
   "execution_count": 5,
   "id": "de3c8439",
   "metadata": {},
   "outputs": [
    {
     "name": "stdout",
     "output_type": "stream",
     "text": [
      "<class 'pandas.core.frame.DataFrame'>\n",
      "RangeIndex: 3903 entries, 0 to 3902\n",
      "Data columns (total 15 columns):\n",
      " #   Column         Non-Null Count  Dtype  \n",
      "---  ------         --------------  -----  \n",
      " 0   手機螢幕溫度(平均)     3903 non-null   float64\n",
      " 1   手機螢幕溫度(最大)     3903 non-null   float64\n",
      " 2   手機背蓋溫度(平均)     3903 non-null   float64\n",
      " 3   平均APP運作指標/小時   3903 non-null   float64\n",
      " 4   充電時間指標         3903 non-null   float64\n",
      " 5   手機電池電量         3903 non-null   float64\n",
      " 6   CPU跑分階級        3903 non-null   int64  \n",
      " 7   手機外殼/包膜指標      3903 non-null   float64\n",
      " 8   外型平均曲率         3903 non-null   float64\n",
      " 9   上網頻率指標         3903 non-null   float64\n",
      " 10  通話頻率指標         3903 non-null   float64\n",
      " 11  新機/二手/老舊       3903 non-null   int64  \n",
      " 12  內容容量比率         3903 non-null   float64\n",
      " 13  CPU效能等級        3903 non-null   int64  \n",
      " 14  Underclocking  3903 non-null   int64  \n",
      "dtypes: float64(11), int64(4)\n",
      "memory usage: 457.5 KB\n"
     ]
    }
   ],
   "source": [
    "#Summary of Dataset\n",
    "data.info()"
   ]
  },
  {
   "cell_type": "code",
   "execution_count": 6,
   "id": "a2aefe65",
   "metadata": {},
   "outputs": [
    {
     "name": "stdout",
     "output_type": "stream",
     "text": [
      "44.190476    11\n",
      "39.285714    10\n",
      "36.214286    10\n",
      "42.952381     9\n",
      "29.738095     9\n",
      "             ..\n",
      "58.357143     1\n",
      "56.404762     1\n",
      "42.428571     1\n",
      "59.380952     1\n",
      "40.547619     1\n",
      "Name: 手機螢幕溫度(平均), Length: 1412, dtype: int64\n",
      "28.809524    15\n",
      "37.023810    12\n",
      "49.380952    11\n",
      "32.166667    11\n",
      "39.190476    10\n",
      "             ..\n",
      "19.785714     1\n",
      "42.404762     1\n",
      "48.785714     1\n",
      "53.333333     1\n",
      "47.071429     1\n",
      "Name: 手機螢幕溫度(最大), Length: 1211, dtype: int64\n",
      "69.400000    15\n",
      "74.466667    12\n",
      "59.560000     9\n",
      "68.400000     9\n",
      "53.053333     9\n",
      "             ..\n",
      "40.474724     1\n",
      "54.580000     1\n",
      "54.753333     1\n",
      "51.643133     1\n",
      "57.946667     1\n",
      "Name: 手機背蓋溫度(平均), Length: 1504, dtype: int64\n",
      "227.0     9\n",
      "545.8     8\n",
      "1047.0    7\n",
      "529.2     7\n",
      "226.2     6\n",
      "         ..\n",
      "262.8     1\n",
      "289.5     1\n",
      "435.1     1\n",
      "318.5     1\n",
      "265.6     1\n",
      "Name: 平均APP運作指標/小時, Length: 1643, dtype: int64\n",
      "0.000000    445\n",
      "0.166667     26\n",
      "0.333333     21\n",
      "0.095238     14\n",
      "0.083333     13\n",
      "           ... \n",
      "0.363636      1\n",
      "0.605634      1\n",
      "0.151163      1\n",
      "0.341772      1\n",
      "0.317308      1\n",
      "Name: 充電時間指標, Length: 1234, dtype: int64\n",
      "59.686147    9\n",
      "59.920635    8\n",
      "91.558442    7\n",
      "59.704185    7\n",
      "59.740260    7\n",
      "            ..\n",
      "72.709235    1\n",
      "84.188274    1\n",
      "77.953123    1\n",
      "80.274777    1\n",
      "80.122655    1\n",
      "Name: 手機電池電量, Length: 3157, dtype: int64\n",
      "3    3002\n",
      "4     697\n",
      "6     143\n",
      "5      61\n",
      "Name: CPU跑分階級, dtype: int64\n",
      "0.053652    1\n",
      "0.055068    1\n",
      "0.038686    1\n",
      "0.045484    1\n",
      "0.044126    1\n",
      "           ..\n",
      "0.044058    1\n",
      "0.042004    1\n",
      "0.180929    1\n",
      "0.111364    1\n",
      "0.032634    1\n",
      "Name: 手機外殼/包膜指標, Length: 3903, dtype: int64\n",
      "-0.133200    6\n",
      "-0.125700    6\n",
      "-0.092310    6\n",
      "-0.181500    6\n",
      "-0.082230    5\n",
      "            ..\n",
      " 0.011273    1\n",
      "-0.070016    1\n",
      " 0.115525    1\n",
      " 0.083162    1\n",
      " 0.016665    1\n",
      "Name: 外型平均曲率, Length: 1709, dtype: int64\n",
      "1821.00    8\n",
      "3198.00    8\n",
      "2389.00    8\n",
      "3779.00    8\n",
      "1974.00    6\n",
      "          ..\n",
      "4764.00    1\n",
      "6444.00    1\n",
      "92.65      1\n",
      "3840.00    1\n",
      "3588.00    1\n",
      "Name: 上網頻率指標, Length: 1639, dtype: int64\n",
      "0.000000       312\n",
      "2481.252004     11\n",
      "3325.815207     10\n",
      "1688.000000     10\n",
      "1772.000000      8\n",
      "              ... \n",
      "485.700000       1\n",
      "2920.000000      1\n",
      "892.100000       1\n",
      "102.278398       1\n",
      "3250.000000      1\n",
      "Name: 通話頻率指標, Length: 1356, dtype: int64\n",
      "0    2926\n",
      "1     828\n",
      "2     124\n",
      "3      18\n",
      "4       4\n",
      "5       3\n",
      "Name: 新機/二手/老舊, dtype: int64\n",
      "1.000000    253\n",
      "0.999244      1\n",
      "0.997409      1\n",
      "0.998810      1\n",
      "0.977953      1\n",
      "           ... \n",
      "0.522858      1\n",
      "0.851343      1\n",
      "0.917430      1\n",
      "0.856835      1\n",
      "0.920182      1\n",
      "Name: 內容容量比率, Length: 3651, dtype: int64\n",
      "1    3002\n",
      "2     697\n",
      "4     143\n",
      "3      61\n",
      "Name: CPU效能等級, dtype: int64\n",
      "0    2232\n",
      "1    1671\n",
      "Name: Underclocking, dtype: int64\n"
     ]
    }
   ],
   "source": [
    "#計算資料的分布情況\n",
    "for col in data.columns:\n",
    "    \n",
    "    print(data[col].value_counts()) "
   ]
  },
  {
   "cell_type": "code",
   "execution_count": 7,
   "id": "87e56669",
   "metadata": {},
   "outputs": [
    {
     "data": {
      "text/plain": [
       "手機螢幕溫度(平均)       0\n",
       "手機螢幕溫度(最大)       0\n",
       "手機背蓋溫度(平均)       0\n",
       "平均APP運作指標/小時     0\n",
       "充電時間指標           0\n",
       "手機電池電量           0\n",
       "CPU跑分階級          0\n",
       "手機外殼/包膜指標        0\n",
       "外型平均曲率           0\n",
       "上網頻率指標           0\n",
       "通話頻率指標           0\n",
       "新機/二手/老舊         0\n",
       "內容容量比率           0\n",
       "CPU效能等級          0\n",
       "Underclocking    0\n",
       "dtype: int64"
      ]
     },
     "execution_count": 7,
     "metadata": {},
     "output_type": "execute_result"
    }
   ],
   "source": [
    "#檢查是否有遺漏值\n",
    "data.isnull().sum()"
   ]
  },
  {
   "cell_type": "code",
   "execution_count": 8,
   "id": "7592dadc",
   "metadata": {},
   "outputs": [],
   "source": [
    "\n",
    "X = data.drop(columns=['Underclocking'])\n",
    "y = data['Underclocking']"
   ]
  },
  {
   "cell_type": "code",
   "execution_count": 9,
   "id": "56b04a91",
   "metadata": {},
   "outputs": [],
   "source": [
    "# 分割数据集\n",
    "X_train, X_test, y_train, y_test = train_test_split(X, y, test_size=0.2, random_state=42)"
   ]
  },
  {
   "cell_type": "code",
   "execution_count": 10,
   "id": "007920d0",
   "metadata": {},
   "outputs": [
    {
     "data": {
      "text/plain": [
       "手機螢幕溫度(平均)      float64\n",
       "手機螢幕溫度(最大)      float64\n",
       "手機背蓋溫度(平均)      float64\n",
       "平均APP運作指標/小時    float64\n",
       "充電時間指標          float64\n",
       "手機電池電量          float64\n",
       "CPU跑分階級           int64\n",
       "手機外殼/包膜指標       float64\n",
       "外型平均曲率          float64\n",
       "上網頻率指標          float64\n",
       "通話頻率指標          float64\n",
       "新機/二手/老舊          int64\n",
       "內容容量比率          float64\n",
       "CPU效能等級           int64\n",
       "dtype: object"
      ]
     },
     "execution_count": 10,
     "metadata": {},
     "output_type": "execute_result"
    }
   ],
   "source": [
    "X_train.dtypes"
   ]
  },
  {
   "cell_type": "code",
   "execution_count": 11,
   "id": "41f6e87f",
   "metadata": {},
   "outputs": [
    {
     "data": {
      "text/html": [
       "<div>\n",
       "<style scoped>\n",
       "    .dataframe tbody tr th:only-of-type {\n",
       "        vertical-align: middle;\n",
       "    }\n",
       "\n",
       "    .dataframe tbody tr th {\n",
       "        vertical-align: top;\n",
       "    }\n",
       "\n",
       "    .dataframe thead th {\n",
       "        text-align: right;\n",
       "    }\n",
       "</style>\n",
       "<table border=\"1\" class=\"dataframe\">\n",
       "  <thead>\n",
       "    <tr style=\"text-align: right;\">\n",
       "      <th></th>\n",
       "      <th>手機螢幕溫度(平均)</th>\n",
       "      <th>手機螢幕溫度(最大)</th>\n",
       "      <th>手機背蓋溫度(平均)</th>\n",
       "      <th>平均APP運作指標/小時</th>\n",
       "      <th>充電時間指標</th>\n",
       "      <th>手機電池電量</th>\n",
       "      <th>CPU跑分階級</th>\n",
       "      <th>手機外殼/包膜指標</th>\n",
       "      <th>外型平均曲率</th>\n",
       "      <th>上網頻率指標</th>\n",
       "      <th>通話頻率指標</th>\n",
       "      <th>新機/二手/老舊</th>\n",
       "      <th>內容容量比率</th>\n",
       "      <th>CPU效能等級</th>\n",
       "    </tr>\n",
       "  </thead>\n",
       "  <tbody>\n",
       "    <tr>\n",
       "      <th>247</th>\n",
       "      <td>46.642857</td>\n",
       "      <td>52.976190</td>\n",
       "      <td>44.293333</td>\n",
       "      <td>308.900000</td>\n",
       "      <td>0.923077</td>\n",
       "      <td>96.013709</td>\n",
       "      <td>3</td>\n",
       "      <td>0.053097</td>\n",
       "      <td>-0.104000</td>\n",
       "      <td>4421.000000</td>\n",
       "      <td>4108.000000</td>\n",
       "      <td>1</td>\n",
       "      <td>0.759037</td>\n",
       "      <td>1</td>\n",
       "    </tr>\n",
       "    <tr>\n",
       "      <th>1672</th>\n",
       "      <td>58.571429</td>\n",
       "      <td>62.857143</td>\n",
       "      <td>39.253333</td>\n",
       "      <td>361.200000</td>\n",
       "      <td>0.000000</td>\n",
       "      <td>93.459049</td>\n",
       "      <td>3</td>\n",
       "      <td>0.049957</td>\n",
       "      <td>-0.060320</td>\n",
       "      <td>6761.000000</td>\n",
       "      <td>6619.000000</td>\n",
       "      <td>0</td>\n",
       "      <td>0.962759</td>\n",
       "      <td>1</td>\n",
       "    </tr>\n",
       "    <tr>\n",
       "      <th>1822</th>\n",
       "      <td>63.023810</td>\n",
       "      <td>67.976190</td>\n",
       "      <td>47.640000</td>\n",
       "      <td>203.000000</td>\n",
       "      <td>0.050847</td>\n",
       "      <td>83.351371</td>\n",
       "      <td>3</td>\n",
       "      <td>0.052608</td>\n",
       "      <td>-0.122500</td>\n",
       "      <td>3465.000000</td>\n",
       "      <td>3210.000000</td>\n",
       "      <td>0</td>\n",
       "      <td>0.932071</td>\n",
       "      <td>1</td>\n",
       "    </tr>\n",
       "    <tr>\n",
       "      <th>2561</th>\n",
       "      <td>43.980399</td>\n",
       "      <td>49.619048</td>\n",
       "      <td>37.789958</td>\n",
       "      <td>995.982424</td>\n",
       "      <td>0.074689</td>\n",
       "      <td>71.334983</td>\n",
       "      <td>3</td>\n",
       "      <td>0.186510</td>\n",
       "      <td>-0.000019</td>\n",
       "      <td>4692.234588</td>\n",
       "      <td>4011.614534</td>\n",
       "      <td>0</td>\n",
       "      <td>1.000000</td>\n",
       "      <td>1</td>\n",
       "    </tr>\n",
       "    <tr>\n",
       "      <th>2772</th>\n",
       "      <td>44.476190</td>\n",
       "      <td>48.166667</td>\n",
       "      <td>51.340000</td>\n",
       "      <td>3351.000000</td>\n",
       "      <td>0.174603</td>\n",
       "      <td>78.084416</td>\n",
       "      <td>4</td>\n",
       "      <td>0.057129</td>\n",
       "      <td>-0.088040</td>\n",
       "      <td>6671.000000</td>\n",
       "      <td>6338.000000</td>\n",
       "      <td>0</td>\n",
       "      <td>0.806962</td>\n",
       "      <td>2</td>\n",
       "    </tr>\n",
       "  </tbody>\n",
       "</table>\n",
       "</div>"
      ],
      "text/plain": [
       "      手機螢幕溫度(平均)  手機螢幕溫度(最大)  手機背蓋溫度(平均)  平均APP運作指標/小時    充電時間指標     手機電池電量  \\\n",
       "247    46.642857   52.976190   44.293333    308.900000  0.923077  96.013709   \n",
       "1672   58.571429   62.857143   39.253333    361.200000  0.000000  93.459049   \n",
       "1822   63.023810   67.976190   47.640000    203.000000  0.050847  83.351371   \n",
       "2561   43.980399   49.619048   37.789958    995.982424  0.074689  71.334983   \n",
       "2772   44.476190   48.166667   51.340000   3351.000000  0.174603  78.084416   \n",
       "\n",
       "      CPU跑分階級  手機外殼/包膜指標    外型平均曲率       上網頻率指標       通話頻率指標  新機/二手/老舊  \\\n",
       "247         3   0.053097 -0.104000  4421.000000  4108.000000         1   \n",
       "1672        3   0.049957 -0.060320  6761.000000  6619.000000         0   \n",
       "1822        3   0.052608 -0.122500  3465.000000  3210.000000         0   \n",
       "2561        3   0.186510 -0.000019  4692.234588  4011.614534         0   \n",
       "2772        4   0.057129 -0.088040  6671.000000  6338.000000         0   \n",
       "\n",
       "        內容容量比率  CPU效能等級  \n",
       "247   0.759037        1  \n",
       "1672  0.962759        1  \n",
       "1822  0.932071        1  \n",
       "2561  1.000000        1  \n",
       "2772  0.806962        2  "
      ]
     },
     "execution_count": 11,
     "metadata": {},
     "output_type": "execute_result"
    }
   ],
   "source": [
    "X_train.head()"
   ]
  },
  {
   "cell_type": "code",
   "execution_count": 12,
   "id": "678b2864",
   "metadata": {},
   "outputs": [],
   "source": [
    "# 數據標準化\n",
    "scaler = StandardScaler()\n",
    "X_train_scaled = scaler.fit_transform(X_train)\n",
    "X_test_scaled = scaler.transform(X_test)"
   ]
  },
  {
   "cell_type": "code",
   "execution_count": 13,
   "id": "a211beae",
   "metadata": {},
   "outputs": [
    {
     "data": {
      "text/html": [
       "<style>#sk-container-id-1 {color: black;background-color: white;}#sk-container-id-1 pre{padding: 0;}#sk-container-id-1 div.sk-toggleable {background-color: white;}#sk-container-id-1 label.sk-toggleable__label {cursor: pointer;display: block;width: 100%;margin-bottom: 0;padding: 0.3em;box-sizing: border-box;text-align: center;}#sk-container-id-1 label.sk-toggleable__label-arrow:before {content: \"▸\";float: left;margin-right: 0.25em;color: #696969;}#sk-container-id-1 label.sk-toggleable__label-arrow:hover:before {color: black;}#sk-container-id-1 div.sk-estimator:hover label.sk-toggleable__label-arrow:before {color: black;}#sk-container-id-1 div.sk-toggleable__content {max-height: 0;max-width: 0;overflow: hidden;text-align: left;background-color: #f0f8ff;}#sk-container-id-1 div.sk-toggleable__content pre {margin: 0.2em;color: black;border-radius: 0.25em;background-color: #f0f8ff;}#sk-container-id-1 input.sk-toggleable__control:checked~div.sk-toggleable__content {max-height: 200px;max-width: 100%;overflow: auto;}#sk-container-id-1 input.sk-toggleable__control:checked~label.sk-toggleable__label-arrow:before {content: \"▾\";}#sk-container-id-1 div.sk-estimator input.sk-toggleable__control:checked~label.sk-toggleable__label {background-color: #d4ebff;}#sk-container-id-1 div.sk-label input.sk-toggleable__control:checked~label.sk-toggleable__label {background-color: #d4ebff;}#sk-container-id-1 input.sk-hidden--visually {border: 0;clip: rect(1px 1px 1px 1px);clip: rect(1px, 1px, 1px, 1px);height: 1px;margin: -1px;overflow: hidden;padding: 0;position: absolute;width: 1px;}#sk-container-id-1 div.sk-estimator {font-family: monospace;background-color: #f0f8ff;border: 1px dotted black;border-radius: 0.25em;box-sizing: border-box;margin-bottom: 0.5em;}#sk-container-id-1 div.sk-estimator:hover {background-color: #d4ebff;}#sk-container-id-1 div.sk-parallel-item::after {content: \"\";width: 100%;border-bottom: 1px solid gray;flex-grow: 1;}#sk-container-id-1 div.sk-label:hover label.sk-toggleable__label {background-color: #d4ebff;}#sk-container-id-1 div.sk-serial::before {content: \"\";position: absolute;border-left: 1px solid gray;box-sizing: border-box;top: 0;bottom: 0;left: 50%;z-index: 0;}#sk-container-id-1 div.sk-serial {display: flex;flex-direction: column;align-items: center;background-color: white;padding-right: 0.2em;padding-left: 0.2em;position: relative;}#sk-container-id-1 div.sk-item {position: relative;z-index: 1;}#sk-container-id-1 div.sk-parallel {display: flex;align-items: stretch;justify-content: center;background-color: white;position: relative;}#sk-container-id-1 div.sk-item::before, #sk-container-id-1 div.sk-parallel-item::before {content: \"\";position: absolute;border-left: 1px solid gray;box-sizing: border-box;top: 0;bottom: 0;left: 50%;z-index: -1;}#sk-container-id-1 div.sk-parallel-item {display: flex;flex-direction: column;z-index: 1;position: relative;background-color: white;}#sk-container-id-1 div.sk-parallel-item:first-child::after {align-self: flex-end;width: 50%;}#sk-container-id-1 div.sk-parallel-item:last-child::after {align-self: flex-start;width: 50%;}#sk-container-id-1 div.sk-parallel-item:only-child::after {width: 0;}#sk-container-id-1 div.sk-dashed-wrapped {border: 1px dashed gray;margin: 0 0.4em 0.5em 0.4em;box-sizing: border-box;padding-bottom: 0.4em;background-color: white;}#sk-container-id-1 div.sk-label label {font-family: monospace;font-weight: bold;display: inline-block;line-height: 1.2em;}#sk-container-id-1 div.sk-label-container {text-align: center;}#sk-container-id-1 div.sk-container {/* jupyter's `normalize.less` sets `[hidden] { display: none; }` but bootstrap.min.css set `[hidden] { display: none !important; }` so we also need the `!important` here to be able to override the default hidden behavior on the sphinx rendered scikit-learn.org. See: https://github.com/scikit-learn/scikit-learn/issues/21755 */display: inline-block !important;position: relative;}#sk-container-id-1 div.sk-text-repr-fallback {display: none;}</style><div id=\"sk-container-id-1\" class=\"sk-top-container\"><div class=\"sk-text-repr-fallback\"><pre>RandomForestClassifier(random_state=42)</pre><b>In a Jupyter environment, please rerun this cell to show the HTML representation or trust the notebook. <br />On GitHub, the HTML representation is unable to render, please try loading this page with nbviewer.org.</b></div><div class=\"sk-container\" hidden><div class=\"sk-item\"><div class=\"sk-estimator sk-toggleable\"><input class=\"sk-toggleable__control sk-hidden--visually\" id=\"sk-estimator-id-1\" type=\"checkbox\" checked><label for=\"sk-estimator-id-1\" class=\"sk-toggleable__label sk-toggleable__label-arrow\">RandomForestClassifier</label><div class=\"sk-toggleable__content\"><pre>RandomForestClassifier(random_state=42)</pre></div></div></div></div></div>"
      ],
      "text/plain": [
       "RandomForestClassifier(random_state=42)"
      ]
     },
     "execution_count": 13,
     "metadata": {},
     "output_type": "execute_result"
    }
   ],
   "source": [
    "#隨機森林分類器\n",
    "rf_clf = RandomForestClassifier(n_estimators=100, random_state=42)\n",
    "rf_clf.fit(X_train_scaled, y_train)"
   ]
  },
  {
   "cell_type": "code",
   "execution_count": 14,
   "id": "8e8613a5",
   "metadata": {},
   "outputs": [
    {
     "data": {
      "text/plain": [
       "內容容量比率          0.181375\n",
       "手機電池電量          0.118379\n",
       "手機背蓋溫度(平均)      0.093684\n",
       "手機外殼/包膜指標       0.089530\n",
       "手機螢幕溫度(平均)      0.077864\n",
       "手機螢幕溫度(最大)      0.074634\n",
       "平均APP運作指標/小時    0.074394\n",
       "通話頻率指標          0.067387\n",
       "上網頻率指標          0.067073\n",
       "外型平均曲率          0.063882\n",
       "充電時間指標          0.061223\n",
       "新機/二手/老舊        0.013359\n",
       "CPU效能等級         0.008713\n",
       "CPU跑分階級         0.008503\n",
       "dtype: float64"
      ]
     },
     "execution_count": 14,
     "metadata": {},
     "output_type": "execute_result"
    }
   ],
   "source": [
    "clf = RandomForestClassifier(n_estimators=100, random_state=0)\n",
    "clf.fit(X_train, y_train)\n",
    "feature_scores = pd.Series(clf.feature_importances_, index=X_train.columns).sort_values(ascending=False)\n",
    "\n",
    "feature_scores"
   ]
  },
  {
   "cell_type": "code",
   "execution_count": 15,
   "id": "25d59b0d",
   "metadata": {},
   "outputs": [
    {
     "data": {
      "image/png": "[encoded data removed]",
      "text/plain": [
       "<Figure size 1000x600 with 1 Axes>"
      ]
     },
     "metadata": {},
     "output_type": "display_data"
    }
   ],
   "source": [
    "plt.rcParams['font.sans-serif'] = 'simhei'\n",
    "plt.rcParams['axes.unicode_minus'] = False \n",
    "plt.figure(figsize=(10, 6))\n",
    "sns.barplot(x=feature_scores, y=feature_scores.index)\n",
    "plt.title('Feature Importance')\n",
    "plt.xlabel('Importance Score')\n",
    "plt.ylabel('Features')\n",
    "plt.show()"
   ]
  },
  {
   "cell_type": "code",
   "execution_count": 16,
   "id": "7e93faa5",
   "metadata": {},
   "outputs": [],
   "source": [
    "# 獲取特徵重要性\n",
    "feature_importances = pd.Series(rf_clf.feature_importances_, index=X_train.columns)\n",
    "top_features = feature_importances.nlargest(11).index.tolist()"
   ]
  },
  {
   "cell_type": "code",
   "execution_count": 17,
   "id": "d77bb64f",
   "metadata": {},
   "outputs": [],
   "source": [
    "# 準備基於特徵重要性的新數據集\n",
    "X_train_top = X_train[top_features]\n",
    "X_test_top = X_test[top_features]"
   ]
  },
  {
   "cell_type": "code",
   "execution_count": 18,
   "id": "875e43f4",
   "metadata": {},
   "outputs": [],
   "source": [
    "# 標準化重要特徵\n",
    "X_train_top_scaled = scaler.fit_transform(X_train_top)\n",
    "X_test_top_scaled = scaler.transform(X_test_top)"
   ]
  },
  {
   "cell_type": "code",
   "execution_count": 19,
   "id": "783022a9",
   "metadata": {},
   "outputs": [
    {
     "data": {
      "text/html": [
       "<style>#sk-container-id-2 {color: black;background-color: white;}#sk-container-id-2 pre{padding: 0;}#sk-container-id-2 div.sk-toggleable {background-color: white;}#sk-container-id-2 label.sk-toggleable__label {cursor: pointer;display: block;width: 100%;margin-bottom: 0;padding: 0.3em;box-sizing: border-box;text-align: center;}#sk-container-id-2 label.sk-toggleable__label-arrow:before {content: \"▸\";float: left;margin-right: 0.25em;color: #696969;}#sk-container-id-2 label.sk-toggleable__label-arrow:hover:before {color: black;}#sk-container-id-2 div.sk-estimator:hover label.sk-toggleable__label-arrow:before {color: black;}#sk-container-id-2 div.sk-toggleable__content {max-height: 0;max-width: 0;overflow: hidden;text-align: left;background-color: #f0f8ff;}#sk-container-id-2 div.sk-toggleable__content pre {margin: 0.2em;color: black;border-radius: 0.25em;background-color: #f0f8ff;}#sk-container-id-2 input.sk-toggleable__control:checked~div.sk-toggleable__content {max-height: 200px;max-width: 100%;overflow: auto;}#sk-container-id-2 input.sk-toggleable__control:checked~label.sk-toggleable__label-arrow:before {content: \"▾\";}#sk-container-id-2 div.sk-estimator input.sk-toggleable__control:checked~label.sk-toggleable__label {background-color: #d4ebff;}#sk-container-id-2 div.sk-label input.sk-toggleable__control:checked~label.sk-toggleable__label {background-color: #d4ebff;}#sk-container-id-2 input.sk-hidden--visually {border: 0;clip: rect(1px 1px 1px 1px);clip: rect(1px, 1px, 1px, 1px);height: 1px;margin: -1px;overflow: hidden;padding: 0;position: absolute;width: 1px;}#sk-container-id-2 div.sk-estimator {font-family: monospace;background-color: #f0f8ff;border: 1px dotted black;border-radius: 0.25em;box-sizing: border-box;margin-bottom: 0.5em;}#sk-container-id-2 div.sk-estimator:hover {background-color: #d4ebff;}#sk-container-id-2 div.sk-parallel-item::after {content: \"\";width: 100%;border-bottom: 1px solid gray;flex-grow: 1;}#sk-container-id-2 div.sk-label:hover label.sk-toggleable__label {background-color: #d4ebff;}#sk-container-id-2 div.sk-serial::before {content: \"\";position: absolute;border-left: 1px solid gray;box-sizing: border-box;top: 0;bottom: 0;left: 50%;z-index: 0;}#sk-container-id-2 div.sk-serial {display: flex;flex-direction: column;align-items: center;background-color: white;padding-right: 0.2em;padding-left: 0.2em;position: relative;}#sk-container-id-2 div.sk-item {position: relative;z-index: 1;}#sk-container-id-2 div.sk-parallel {display: flex;align-items: stretch;justify-content: center;background-color: white;position: relative;}#sk-container-id-2 div.sk-item::before, #sk-container-id-2 div.sk-parallel-item::before {content: \"\";position: absolute;border-left: 1px solid gray;box-sizing: border-box;top: 0;bottom: 0;left: 50%;z-index: -1;}#sk-container-id-2 div.sk-parallel-item {display: flex;flex-direction: column;z-index: 1;position: relative;background-color: white;}#sk-container-id-2 div.sk-parallel-item:first-child::after {align-self: flex-end;width: 50%;}#sk-container-id-2 div.sk-parallel-item:last-child::after {align-self: flex-start;width: 50%;}#sk-container-id-2 div.sk-parallel-item:only-child::after {width: 0;}#sk-container-id-2 div.sk-dashed-wrapped {border: 1px dashed gray;margin: 0 0.4em 0.5em 0.4em;box-sizing: border-box;padding-bottom: 0.4em;background-color: white;}#sk-container-id-2 div.sk-label label {font-family: monospace;font-weight: bold;display: inline-block;line-height: 1.2em;}#sk-container-id-2 div.sk-label-container {text-align: center;}#sk-container-id-2 div.sk-container {/* jupyter's `normalize.less` sets `[hidden] { display: none; }` but bootstrap.min.css set `[hidden] { display: none !important; }` so we also need the `!important` here to be able to override the default hidden behavior on the sphinx rendered scikit-learn.org. See: https://github.com/scikit-learn/scikit-learn/issues/21755 */display: inline-block !important;position: relative;}#sk-container-id-2 div.sk-text-repr-fallback {display: none;}</style><div id=\"sk-container-id-2\" class=\"sk-top-container\"><div class=\"sk-text-repr-fallback\"><pre>RandomForestClassifier(random_state=42)</pre><b>In a Jupyter environment, please rerun this cell to show the HTML representation or trust the notebook. <br />On GitHub, the HTML representation is unable to render, please try loading this page with nbviewer.org.</b></div><div class=\"sk-container\" hidden><div class=\"sk-item\"><div class=\"sk-estimator sk-toggleable\"><input class=\"sk-toggleable__control sk-hidden--visually\" id=\"sk-estimator-id-2\" type=\"checkbox\" checked><label for=\"sk-estimator-id-2\" class=\"sk-toggleable__label sk-toggleable__label-arrow\">RandomForestClassifier</label><div class=\"sk-toggleable__content\"><pre>RandomForestClassifier(random_state=42)</pre></div></div></div></div></div>"
      ],
      "text/plain": [
       "RandomForestClassifier(random_state=42)"
      ]
     },
     "execution_count": 19,
     "metadata": {},
     "output_type": "execute_result"
    }
   ],
   "source": [
    "# 重新訓練模型，使用重要特征\n",
    "rf_clf.fit(X_train_top_scaled, y_train)"
   ]
  },
  {
   "cell_type": "code",
   "execution_count": 20,
   "id": "06f8fb70",
   "metadata": {},
   "outputs": [],
   "source": [
    "# 在訓練集和測試集上進行預測\n",
    "y_train_pred = rf_clf.predict(X_train_top_scaled)\n",
    "y_test_pred = rf_clf.predict(X_test_top_scaled)"
   ]
  },
  {
   "cell_type": "code",
   "execution_count": 21,
   "id": "cbae5068",
   "metadata": {},
   "outputs": [
    {
     "name": "stdout",
     "output_type": "stream",
     "text": [
      "Training Accuracy: 1.0\n",
      "Test Accuracy: 0.7221510883482715\n"
     ]
    }
   ],
   "source": [
    "# 計算準確率\n",
    "train_accuracy = accuracy_score(y_train, y_train_pred)\n",
    "test_accuracy = accuracy_score(y_test, y_test_pred)\n",
    "print(f'Training Accuracy: {train_accuracy}')\n",
    "print(f'Test Accuracy: {test_accuracy}')"
   ]
  },
  {
   "cell_type": "code",
   "execution_count": 22,
   "id": "62769e05",
   "metadata": {},
   "outputs": [
    {
     "name": "stdout",
     "output_type": "stream",
     "text": [
      "Training Classification Report:\n",
      "              precision    recall  f1-score   support\n",
      "\n",
      "           0       1.00      1.00      1.00      1807\n",
      "           1       1.00      1.00      1.00      1315\n",
      "\n",
      "    accuracy                           1.00      3122\n",
      "   macro avg       1.00      1.00      1.00      3122\n",
      "weighted avg       1.00      1.00      1.00      3122\n",
      "\n",
      "Test Classification Report:\n",
      "              precision    recall  f1-score   support\n",
      "\n",
      "           0       0.70      0.84      0.77       425\n",
      "           1       0.76      0.58      0.65       356\n",
      "\n",
      "    accuracy                           0.72       781\n",
      "   macro avg       0.73      0.71      0.71       781\n",
      "weighted avg       0.73      0.72      0.72       781\n",
      "\n"
     ]
    }
   ],
   "source": [
    "# 分類報告\n",
    "print(\"Training Classification Report:\")\n",
    "print(classification_report(y_train, y_train_pred))\n",
    "\n",
    "print(\"Test Classification Report:\")\n",
    "print(classification_report(y_test, y_test_pred))"
   ]
  },
  {
   "cell_type": "code",
   "execution_count": 23,
   "id": "9c9ef677",
   "metadata": {},
   "outputs": [
    {
     "data": {
      "image/png": "[encoded data removed]",
      "text/plain": [
       "<Figure size 1000x600 with 1 Axes>"
      ]
     },
     "metadata": {},
     "output_type": "display_data"
    }
   ],
   "source": [
    "# 學習曲線\n",
    "train_sizes = range(10, len(X_train_top_scaled), 50)\n",
    "train_scores = []\n",
    "test_scores = []\n",
    "\n",
    "for size in train_sizes:\n",
    "    rf_clf.fit(X_train_top_scaled[:size], y_train[:size])\n",
    "    train_pred = rf_clf.predict(X_train_top_scaled[:size])\n",
    "    train_scores.append(accuracy_score(y_train[:size], train_pred))\n",
    "    test_pred = rf_clf.predict(X_test_top_scaled)\n",
    "    test_scores.append(accuracy_score(y_test, test_pred))\n",
    "    \n",
    "plt.figure(figsize=(10, 6))\n",
    "plt.plot(train_sizes, train_scores, 'o-', label='Training Accuracy')\n",
    "plt.plot(train_sizes, test_scores, 'o-', label='Test Accuracy')\n",
    "plt.xlabel('Training Size')\n",
    "plt.ylabel('Accuracy')\n",
    "plt.title('Learning Curve')\n",
    "plt.legend()\n",
    "plt.show()"
   ]
  },
  {
   "cell_type": "code",
   "execution_count": null,
   "id": "86705893",
   "metadata": {},
   "outputs": [],
   "source": []
  }
 ],
 "metadata": {
  "kernelspec": {
   "display_name": "Python 3 (ipykernel)",
   "language": "python",
   "name": "python3"
  },
  "language_info": {
   "codemirror_mode": {
    "name": "ipython",
    "version": 3
   },
   "file_extension": ".py",
   "mimetype": "text/x-python",
   "name": "python",
   "nbconvert_exporter": "python",
   "pygments_lexer": "ipython3",
   "version": "3.10.9"
  }
 },
 "nbformat": 4,
 "nbformat_minor": 5
}
